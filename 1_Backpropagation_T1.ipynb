{
  "cells": [
    {
      "cell_type": "markdown",
      "metadata": {
        "id": "view-in-github",
        "colab_type": "text"
      },
      "source": [
        "<a href=\"https://colab.research.google.com/github/husthorng/GA/blob/main/1_Backpropagation_T1.ipynb\" target=\"_parent\"><img src=\"https://colab.research.google.com/assets/colab-badge.svg\" alt=\"Open In Colab\"/></a>"
      ]
    },
    {
      "cell_type": "code",
      "execution_count": null,
      "metadata": {
        "id": "_rYi2L6lrEAD"
      },
      "outputs": [],
      "source": [
        "import numpy as np\n",
        "\n",
        "def nonlin(x,deriv=False):\n",
        "    if(deriv==True):\n",
        "        return x*(1-x)\n",
        "\n",
        "    return 1/(1+np.exp(-x))"
      ]
    },
    {
      "cell_type": "code",
      "execution_count": null,
      "metadata": {
        "id": "hbYTcXQvrEAF"
      },
      "outputs": [],
      "source": [
        "X = np.array([[0,0,1],\n",
        "            [0,1,1],\n",
        "            [1,0,1],\n",
        "            [1,1,1]])\n",
        "\n",
        "y = np.array([[0],\n",
        "            [1],\n",
        "            [1],\n",
        "            [0]])"
      ]
    },
    {
      "cell_type": "code",
      "execution_count": null,
      "metadata": {
        "id": "A6ZFtxiKrEAG"
      },
      "outputs": [],
      "source": [
        "X=np.insert(X,X[0].size,1,axis=1)"
      ]
    },
    {
      "cell_type": "code",
      "execution_count": null,
      "metadata": {
        "id": "1_lrFs06rEAG"
      },
      "outputs": [],
      "source": [
        "np.random.seed(1)\n"
      ]
    },
    {
      "cell_type": "code",
      "execution_count": null,
      "metadata": {
        "id": "8R5w0namrEAG"
      },
      "outputs": [],
      "source": [
        "\n",
        "# randomly initialize our weights with mean 0\n",
        "syn0 = 2*np.random.random((X[0].size,4)) - 1\n",
        "syn1 = 2*np.random.random((4,1)) - 1\n",
        "\n"
      ]
    },
    {
      "cell_type": "code",
      "source": [
        "syn1"
      ],
      "metadata": {
        "colab": {
          "base_uri": "https://localhost:8080/"
        },
        "id": "eQQxyXTz5wZ_",
        "outputId": "f5970f32-8316-42fe-f360-1d4c99cf2e92"
      },
      "execution_count": null,
      "outputs": [
        {
          "output_type": "execute_result",
          "data": {
            "text/plain": [
              "array([[-0.1653904 ],\n",
              "       [ 0.11737966],\n",
              "       [-0.71922612],\n",
              "       [-0.60379702]])"
            ]
          },
          "metadata": {},
          "execution_count": 7
        }
      ]
    },
    {
      "cell_type": "code",
      "execution_count": null,
      "metadata": {
        "id": "oJ1n0RSarEAG",
        "outputId": "f19b6ab6-3055-4f30-e499-e0b5c022264c",
        "colab": {
          "base_uri": "https://localhost:8080/"
        }
      },
      "outputs": [
        {
          "output_type": "stream",
          "name": "stdout",
          "text": [
            "Error:0.49824033388986244\n",
            "Error:0.011392213915157014\n",
            "Error:0.007828508943529568\n",
            "Error:0.0063146154235726\n",
            "Error:0.005428922859423809\n",
            "Error:0.004831273284359524\n"
          ]
        }
      ],
      "source": [
        "for j in range(60000):\n",
        "\n",
        "\t# Feed forward through layers 0, 1, and 2\n",
        "    l0 = X\n",
        "    l1 = nonlin(np.dot(l0,syn0))\n",
        "    l2 = nonlin(np.dot(l1,syn1))\n",
        "\n",
        "    # how much did we miss the target value?\n",
        "    l2_error = y - l2\n",
        "\n",
        "    if (j% 10000) == 0:\n",
        "        print(\"Error:\" + str(np.mean(np.abs(l2_error))))\n",
        "\n",
        "    # in what direction is the target value?\n",
        "    # were we really sure? if so, don't change too much.\n",
        "    l2_delta = l2_error*nonlin(l2,deriv=True)\n",
        "\n",
        "    # how much did each l1 value contribute to the l2 error (according to the weights)?\n",
        "    l1_error = l2_delta.dot(syn1.T)\n",
        "\n",
        "    # in what direction is the target l1?\n",
        "    # were we really sure? if so, don't change too much.\n",
        "    l1_delta = l1_error * nonlin(l1,deriv=True)\n",
        "\n",
        "    syn1 += l1.T.dot(l2_delta)\n",
        "    syn0 += l0.T.dot(l1_delta)\n"
      ]
    },
    {
      "cell_type": "code",
      "execution_count": null,
      "metadata": {
        "id": "awEKduJ8rEAH",
        "outputId": "fab0d4c6-ca6d-452b-ce65-90a968c625b8",
        "colab": {
          "base_uri": "https://localhost:8080/"
        }
      },
      "outputs": [
        {
          "output_type": "execute_result",
          "data": {
            "text/plain": [
              "array([0, 0, 1, 1])"
            ]
          },
          "metadata": {},
          "execution_count": 9
        }
      ],
      "source": [
        "X[0]"
      ]
    },
    {
      "cell_type": "code",
      "execution_count": null,
      "metadata": {
        "id": "GY_Z31tVrEAI",
        "outputId": "5a19f01e-4042-4cc4-ed54-49ebcfd84771",
        "colab": {
          "base_uri": "https://localhost:8080/"
        }
      },
      "outputs": [
        {
          "output_type": "stream",
          "name": "stdout",
          "text": [
            "output after Training:\n",
            "[[0.004011  ]\n",
            " [0.99645285]\n",
            " [0.9952215 ]\n",
            " [0.00523755]]\n"
          ]
        }
      ],
      "source": [
        "#print output\n",
        "print(\"output after Training:\")\n",
        "print(l2)"
      ]
    },
    {
      "cell_type": "code",
      "execution_count": null,
      "metadata": {
        "id": "n64LQlImrEAI",
        "outputId": "5afa837d-ad1a-4377-d3a8-11801b542eb7",
        "colab": {
          "base_uri": "https://localhost:8080/"
        }
      },
      "outputs": [
        {
          "output_type": "stream",
          "name": "stdout",
          "text": [
            "output after Training:\n",
            "[[0.00516171]\n",
            " [0.99522154]]\n"
          ]
        }
      ],
      "source": [
        "X = np.array([[1,1,0],[1,0,1]])\n",
        "l0 = np.insert(X,X[0].size,1,axis=1)\n",
        "l1 = nonlin(np.dot(l0,syn0))\n",
        "l2 = nonlin(np.dot(l1,syn1))\n",
        "#print output\n",
        "print(\"output after Training:\")\n",
        "print(l2)"
      ]
    }
  ],
  "metadata": {
    "kernelspec": {
      "display_name": "Python 3",
      "language": "python",
      "name": "python3"
    },
    "language_info": {
      "codemirror_mode": {
        "name": "ipython",
        "version": 3
      },
      "file_extension": ".py",
      "mimetype": "text/x-python",
      "name": "python",
      "nbconvert_exporter": "python",
      "pygments_lexer": "ipython3",
      "version": "3.7.6"
    },
    "colab": {
      "provenance": [],
      "include_colab_link": true
    }
  },
  "nbformat": 4,
  "nbformat_minor": 0
}